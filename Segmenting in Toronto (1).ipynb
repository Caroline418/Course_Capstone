{
 "cells": [
  {
   "cell_type": "code",
   "execution_count": 146,
   "metadata": {
    "collapsed": true
   },
   "outputs": [],
   "source": [
    "# requests will allow us to make a web request\n",
    "import requests\n",
    "# BeautifulSoup will allow us to easily parse the website's HTML code\n",
    "from bs4 import BeautifulSoup\n",
    "import pandas as pd"
   ]
  },
  {
   "cell_type": "code",
   "execution_count": 147,
   "metadata": {
    "collapsed": true
   },
   "outputs": [],
   "source": [
    "website_url=requests.get('https://en.wikipedia.org/wiki/List_of_postal_codes_of_Canada:_M').text"
   ]
  },
  {
   "cell_type": "code",
   "execution_count": 148,
   "metadata": {},
   "outputs": [],
   "source": [
    "soup = BeautifulSoup(website_url,'lxml')"
   ]
  },
  {
   "cell_type": "code",
   "execution_count": 149,
   "metadata": {},
   "outputs": [],
   "source": [
    "My_tables = soup.find_all('table',{'class':'wikitable sortable'})"
   ]
  },
  {
   "cell_type": "code",
   "execution_count": 150,
   "metadata": {},
   "outputs": [],
   "source": [
    "for table in My_tables:\n",
    "    ths=table.find_all('th')\n",
    "    headings=[th.text.strip() for th in ths]\n",
    "\n",
    "headings \n",
    "df=pd.DataFrame(columns=headings)"
   ]
  },
  {
   "cell_type": "code",
   "execution_count": 151,
   "metadata": {
    "scrolled": true
   },
   "outputs": [],
   "source": [
    "for tr in table.find_all('tr'):\n",
    "    tds=tr.find_all('td')\n",
    "    if not tds:\n",
    "        continue\n",
    "    Postcode, Borough, Neighborhood = [td.text.strip() for td in tds]\n",
    "    df=df.append({'Postcode':Postcode,'Borough':Borough,'Neighbourhood':Neighborhood},ignore_index=True)"
   ]
  },
  {
   "cell_type": "code",
   "execution_count": 152,
   "metadata": {},
   "outputs": [],
   "source": [
    "#Ignore cells with a borough that is Not assigned.\n",
    "df=df[df['Borough']!=\"Not assigned\"]"
   ]
  },
  {
   "cell_type": "code",
   "execution_count": 153,
   "metadata": {},
   "outputs": [],
   "source": [
    "#If a cell has a borough but a Not assigned neighborhood, then the neighborhood will be the same as the borough.\n",
    "temp=df[df['Neighbourhood']==\"Not assigned\"]['Borough']\n",
    "df.loc[df['Neighbourhood']==\"Not assigned\",'Neighbourhood']=temp"
   ]
  },
  {
   "cell_type": "code",
   "execution_count": 154,
   "metadata": {
    "scrolled": true
   },
   "outputs": [],
   "source": [
    "#combine neighbourhoods of same postcode and borough\n",
    "df['Neighbourhood'] = df.groupby(['Postcode'])['Neighbourhood'].transform(lambda x: ','.join(x))\n",
    "df=df[['Postcode','Borough','Neighbourhood']].drop_duplicates()"
   ]
  },
  {
   "cell_type": "code",
   "execution_count": 155,
   "metadata": {},
   "outputs": [
    {
     "data": {
      "text/plain": [
       "(103, 3)"
      ]
     },
     "execution_count": 155,
     "metadata": {},
     "output_type": "execute_result"
    }
   ],
   "source": [
    "df.shape"
   ]
  },
  {
   "cell_type": "code",
   "execution_count": null,
   "metadata": {
    "collapsed": true
   },
   "outputs": [],
   "source": []
  }
 ],
 "metadata": {
  "kernelspec": {
   "display_name": "Python 3",
   "language": "python",
   "name": "python3"
  },
  "language_info": {
   "codemirror_mode": {
    "name": "ipython",
    "version": 3
   },
   "file_extension": ".py",
   "mimetype": "text/x-python",
   "name": "python",
   "nbconvert_exporter": "python",
   "pygments_lexer": "ipython3",
   "version": "3.6.3"
  }
 },
 "nbformat": 4,
 "nbformat_minor": 2
}
